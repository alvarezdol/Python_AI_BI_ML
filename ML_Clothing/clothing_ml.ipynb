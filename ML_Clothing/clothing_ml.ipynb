{
 "cells": [
  {
   "attachments": {},
   "cell_type": "markdown",
   "metadata": {},
   "source": [
    "https://www.geeksforgeeks.org/classifying-clothing-images-in-python/\n",
    "\n",
    "Step 1: Importing the necessary libraries for the classification\n",
    "TensorFlow: To develop and train model using python\n",
    "NumPy: For array manipulation\n",
    "Matplotlib: For data visualization"
   ]
  },
  {
   "cell_type": "code",
   "execution_count": 1,
   "metadata": {},
   "outputs": [
    {
     "ename": "ModuleNotFoundError",
     "evalue": "No module named 'tensorflow'",
     "output_type": "error",
     "traceback": [
      "\u001b[1;31m---------------------------------------------------------------------------\u001b[0m",
      "\u001b[1;31mModuleNotFoundError\u001b[0m                       Traceback (most recent call last)",
      "\u001b[1;32mc:\\GoHere\\T_Labs\\Projects\\Python_Tests\\ML_Clothing\\clothing_ml.ipynb Cell 2\u001b[0m in \u001b[0;36m<cell line: 2>\u001b[1;34m()\u001b[0m\n\u001b[0;32m      <a href='vscode-notebook-cell:/c%3A/GoHere/T_Labs/Projects/Python_Tests/ML_Clothing/clothing_ml.ipynb#W1sZmlsZQ%3D%3D?line=0'>1</a>\u001b[0m \u001b[39m# importing the necessary libraries\u001b[39;00m\n\u001b[1;32m----> <a href='vscode-notebook-cell:/c%3A/GoHere/T_Labs/Projects/Python_Tests/ML_Clothing/clothing_ml.ipynb#W1sZmlsZQ%3D%3D?line=1'>2</a>\u001b[0m \u001b[39mimport\u001b[39;00m \u001b[39mtensorflow\u001b[39;00m \u001b[39mas\u001b[39;00m \u001b[39mtf\u001b[39;00m\n\u001b[0;32m      <a href='vscode-notebook-cell:/c%3A/GoHere/T_Labs/Projects/Python_Tests/ML_Clothing/clothing_ml.ipynb#W1sZmlsZQ%3D%3D?line=2'>3</a>\u001b[0m \u001b[39mimport\u001b[39;00m \u001b[39mnumpy\u001b[39;00m \u001b[39mas\u001b[39;00m \u001b[39mnp\u001b[39;00m\n\u001b[0;32m      <a href='vscode-notebook-cell:/c%3A/GoHere/T_Labs/Projects/Python_Tests/ML_Clothing/clothing_ml.ipynb#W1sZmlsZQ%3D%3D?line=3'>4</a>\u001b[0m \u001b[39mimport\u001b[39;00m \u001b[39mmatplotlib\u001b[39;00m\u001b[39m.\u001b[39;00m\u001b[39mpyplot\u001b[39;00m \u001b[39mas\u001b[39;00m \u001b[39mplt\u001b[39;00m\n",
      "\u001b[1;31mModuleNotFoundError\u001b[0m: No module named 'tensorflow'"
     ]
    }
   ],
   "source": [
    "# importing the necessary libraries\n",
    "import tensorflow as tf\n",
    "import numpy as np\n",
    "import matplotlib.pyplot as plt\n"
   ]
  },
  {
   "attachments": {},
   "cell_type": "markdown",
   "metadata": {},
   "source": [
    "Step 2: Loading and exploring the data\n",
    "Then we load the fashion_mnist dataset and we see the shapes of the training and testing data. It is evident that there are 60,000 training images to train the data and 10,000 testing images to test on the model. In total it contains 70,000 images in ten categories i.e ‘T-shirt/top’, ‘Trouser’, ‘Pullover’, ‘Dress’, ‘Coat’, ‘Sandal’, ‘Shirt’, ‘Sneaker’, ‘Bag’, ‘Ankle boot’."
   ]
  },
  {
   "cell_type": "code",
   "execution_count": null,
   "metadata": {},
   "outputs": [],
   "source": [
    "# storing the dataset path\n",
    "clothing_fashion_mnist = tf.keras.datasets.fashion_mnist\n",
    "\n",
    "# loading the dataset from tensorflow\n",
    "(x_train, y_train),\n",
    "(x_test, y_test) = clothing_fashion_mnist.load_data()\n",
    "\n",
    "# displaying the shapes of training and testing dataset\n",
    "print('Shape of training cloth images: ',\n",
    "\tx_train.shape)\n",
    "\n",
    "print('Shape of training label: ',\n",
    "\ty_train.shape)\n",
    "\n",
    "print('Shape of test cloth images: ',\n",
    "\tx_test.shape)\n",
    "\n",
    "print('Shape of test labels: ',\n",
    "\ty_test.shape)\n"
   ]
  },
  {
   "attachments": {},
   "cell_type": "markdown",
   "metadata": {},
   "source": [
    "Step 2 continued\n",
    "The labels consist of an array of integers that ranges from 0 to 9. Since the class names are not added in the fashion_mnist dataset we then store the actual class names in a variable to use them later for data visualization. From the output, we can see that the pixel value fall in the range of 0 to 255."
   ]
  },
  {
   "cell_type": "code",
   "execution_count": null,
   "metadata": {},
   "outputs": [],
   "source": [
    "# storing the class names as it is\n",
    "# not provided in the dataset\n",
    "label_class_names = ['T-shirt/top', 'Trouser',\n",
    "\t\t\t\t\t'Pullover', 'Dress', 'Coat',\n",
    "\t\t\t\t\t'Sandal', 'Shirt', 'Sneaker',\n",
    "\t\t\t\t\t'Bag', 'Ankle boot']\n",
    "\n",
    "# display the first images\n",
    "plt.imshow(x_train[0])\n",
    "plt.colorbar() # to display the colourbar\n",
    "plt.show()\n"
   ]
  },
  {
   "attachments": {},
   "cell_type": "markdown",
   "metadata": {},
   "source": [
    "Step 3: Preprocessing the data\n",
    "The below code normalizes the data as we can see that the pixel values fall in the range of 0 to 255. Hence we need to divide each by 255 to scale the value between 0 and 1."
   ]
  },
  {
   "cell_type": "code",
   "execution_count": null,
   "metadata": {},
   "outputs": [],
   "source": [
    "x_train = x_train / 255.0 # normalizing the training data\n",
    "x_test = x_test / 255.0 # normalizing the testing data\n"
   ]
  },
  {
   "attachments": {},
   "cell_type": "markdown",
   "metadata": {},
   "source": [
    "Step 4: Data Visualization\n",
    "The below code displays the first 20 clothing images with their class labels making sure we are going in the right direction to build the model. Here we plotted x_train with colormap as binary and added the class names of each from the label_class_names array which we have stored previously."
   ]
  },
  {
   "cell_type": "code",
   "execution_count": null,
   "metadata": {},
   "outputs": [],
   "source": [
    "plt.figure(figsize=(15, 5)) # figure size\n",
    "i = 0\n",
    "while i < 20:\n",
    "\tplt.subplot(2, 10, i+1)\n",
    "\t\n",
    "\t# showing each image with colourmap as binary\n",
    "\tplt.imshow(x_train[i], cmap=plt.cm.binary)\n",
    "\t\n",
    "\t# giving class labels\n",
    "\tplt.xlabel(label_class_names[y_train[i]])\n",
    "\ti = i+1\n",
    "\t\n",
    "plt.show() # plotting the final output figure\n"
   ]
  },
  {
   "attachments": {},
   "cell_type": "markdown",
   "metadata": {},
   "source": [
    "Step 5: Building the model\n",
    "Here we build our model by creating layers of neural network. The tf.keras.layers.Flatten() converts the images from a two-dimensional array into a one-dimensional array and tf.keras.layers.Dense, have certain parameters that are learned during the training phase."
   ]
  },
  {
   "cell_type": "code",
   "execution_count": null,
   "metadata": {},
   "outputs": [],
   "source": [
    "# Building the model\n",
    "model = tf.keras.Sequential([\n",
    "\ttf.keras.layers.Flatten(input_shape=(28, 28)),\n",
    "\ttf.keras.layers.Dense(128, activation='relu'),\n",
    "\ttf.keras.layers.Dense(10)\n",
    "])\n"
   ]
  },
  {
   "attachments": {},
   "cell_type": "markdown",
   "metadata": {},
   "source": [
    "Step 6: Compiling the model\n",
    "Here we are compiling the model using adam optimizer, SparseCategoricalCrossentropy as the loss function, and metrics=[‘accuracy’]."
   ]
  },
  {
   "cell_type": "code",
   "execution_count": null,
   "metadata": {},
   "outputs": [],
   "source": [
    "# compiling the model\n",
    "cloth_model.compile(optimizer='adam',\n",
    "\t\t\t\t\tloss=tf.keras.losses.SparseCategoricalCrossentropy(\n",
    "\t\t\t\t\t\tfrom_logits=True),\n",
    "\t\t\t\t\tmetrics=['accuracy'])\n"
   ]
  },
  {
   "attachments": {},
   "cell_type": "markdown",
   "metadata": {},
   "source": [
    "Step 7: Training the data on the model built\n",
    "Now we will feed the x_train, y_train i.e the training data into our already compiled model. The model.fit() method helps in fitting the training data into our model."
   ]
  },
  {
   "cell_type": "code",
   "execution_count": null,
   "metadata": {},
   "outputs": [],
   "source": [
    "# Fitting the model to the training data\n",
    "cloth_model.fit(x_train, y_train, epochs=10)\n"
   ]
  },
  {
   "attachments": {},
   "cell_type": "markdown",
   "metadata": {},
   "source": [
    "Step 8: Evaluate model loss and accuracy\n",
    "Here we will see how good our model is by calculating the model loss and accuracy. From the output, we can see that the accuracy score on the testing data is less than that of training data. So it is an overfitted model."
   ]
  },
  {
   "cell_type": "code",
   "execution_count": null,
   "metadata": {},
   "outputs": [],
   "source": [
    "# calculating loss and accuracy score\n",
    "test_loss, test_acc = cloth_model.evaluate(x_test,\n",
    "\t\t\t\t\t\t\t\t\t\ty_test,\n",
    "\t\t\t\t\t\t\t\t\t\tverbose=2)\n",
    "print('\\nTest loss:', test_loss)\n",
    "print('\\nTest accuracy:', test_acc)\n"
   ]
  },
  {
   "attachments": {},
   "cell_type": "markdown",
   "metadata": {},
   "source": [
    "Step 9: Making predictions on trained model with test data\n",
    "Now we can use the test dataset to make predictions on the model built. We tried to predict the first test image i.e x_test[0] using predictions[0] which resulted in test label 9 i.e Ankle boot. We have added the Softmax() function to convert the linear output logits to probability as it is much easier to calculate"
   ]
  },
  {
   "cell_type": "code",
   "execution_count": null,
   "metadata": {},
   "outputs": [],
   "source": [
    "# using Softmax() function to convert\n",
    "# linear output logits to probability\n",
    "prediction_model = tf.keras.Sequential(\n",
    "\t[cloth_model, tf.keras.layers.Softmax()])\n",
    "\n",
    "# feeding the testing data to the probability\n",
    "# prediction model\n",
    "prediction = prediction_model.predict(x_test)\n",
    "\n",
    "# predicted class label\n",
    "print('Predicted test label:', np.argmax(prediction[0]))\n",
    "\n",
    "# predicted class label name\n",
    "print(label_class_names[np.argmax(prediction[0])])\n",
    "\n",
    "# actual class label\n",
    "print('Actual test label:', y_test[0])\n"
   ]
  },
  {
   "attachments": {},
   "cell_type": "markdown",
   "metadata": {},
   "source": [
    "Step 10: Data Visualization of predicted vs actual test labels\n",
    "At last, we will be visualizing our first 24 images predicted vs actual class labels to see how good our model is."
   ]
  },
  {
   "cell_type": "code",
   "execution_count": null,
   "metadata": {},
   "outputs": [],
   "source": [
    "# assigning the figure size\n",
    "plt.figure(figsize=(15, 6))\n",
    "i = 0\n",
    "\n",
    "# plotting total 24 images by iterating through it\n",
    "while i < 24:\n",
    "\timage, actual_label = x_test[i], y_test[i]\n",
    "\tpredicted_label = np.argmax(prediction[i])\n",
    "\tplt.subplot(3, 8, i+1)\n",
    "\tplt.tight_layout()\n",
    "\tplt.xticks([])\n",
    "\tplt.yticks([])\n",
    "\t\n",
    "\t# display plot\n",
    "\tplt.imshow(image)\n",
    "\t\n",
    "\t# if else condition to distinguish right and\n",
    "\t# wrong\n",
    "\tcolor, label = ('green', 'Correct Prediction')\n",
    "\tif predicted_label == actual_label else (\n",
    "\t\t'red', 'Incorrect Prediction')\n",
    "\t\n",
    "\t# plotting labels and giving color to it\n",
    "\t# according to its correctness\n",
    "\tplt.title(label, color=color)\n",
    "\t\n",
    "\t# labelling the images in x-axis to see\n",
    "\t# the correct and incorrect results\n",
    "\tplt.xlabel(\" {} ~ {} \".format(\n",
    "\t\tlabel_class_names[actual_label],\n",
    "\tlabel_class_names[predicted_label]))\n",
    "\t\n",
    "\t# labelling the images orderwise in y-axis\n",
    "\tplt.ylabel(i)\n",
    "\t\n",
    "\t# incrementing counter variable\n",
    "\ti += 1\n"
   ]
  },
  {
   "attachments": {},
   "cell_type": "markdown",
   "metadata": {},
   "source": [
    "https://www.geeksforgeeks.org/classifying-clothing-images-in-python/ "
   ]
  }
 ],
 "metadata": {
  "kernelspec": {
   "display_name": "Python 3",
   "language": "python",
   "name": "python3"
  },
  "language_info": {
   "codemirror_mode": {
    "name": "ipython",
    "version": 3
   },
   "file_extension": ".py",
   "mimetype": "text/x-python",
   "name": "python",
   "nbconvert_exporter": "python",
   "pygments_lexer": "ipython3",
   "version": "3.10.6 (tags/v3.10.6:9c7b4bd, Aug  1 2022, 21:53:49) [MSC v.1932 64 bit (AMD64)]"
  },
  "orig_nbformat": 4,
  "vscode": {
   "interpreter": {
    "hash": "dd3b349d516eaf5c243f4256f5870d4a7387b1f85bb459b9d1ad2de002537956"
   }
  }
 },
 "nbformat": 4,
 "nbformat_minor": 2
}
