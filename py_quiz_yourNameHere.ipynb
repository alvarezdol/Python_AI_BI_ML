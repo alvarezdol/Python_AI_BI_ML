{
 "cells": [
  {
   "attachments": {},
   "cell_type": "markdown",
   "metadata": {},
   "source": [
    "Python Quiz: \n",
    "\n",
    "Rename the file py_quiz_yourNameHere.ipynb - with your name.\n",
    "Login to Orbund and find the assessment link.\n",
    "https://server8.orbund.com/einstein-freshair/ \n",
    "\n",
    "Type the code for each question from the quiz and run it to prove the answer.\n",
    "\n",
    "--You can browse the web and show a support link - and not all code is intended to successfully run--\n",
    "\n",
    "...Watch out for what the question really is...\n",
    "\n",
    "If there is a challenge to a quiz answer - put it in the markdown section.\n",
    "\n",
    "Dont forget to mark the answer in the Orbund quiz!\n",
    "\n",
    "Email to tdonaldson@academyfl.com when done."
   ]
  },
  {
   "attachments": {},
   "cell_type": "markdown",
   "metadata": {},
   "source": [
    "Here is an example answer:\n",
    "\n",
    "You are designing a decision struc ure to convert a student’s numeric grade to a letter grade. The program must assign a letter grade as specified in the following table:\n",
    "\n",
    "For example, if the user enters a 90, the output should be, “Your letter grade is A”. Likewise, if a user enters an 89, the output should be “Your letter grade is B”.\n",
    "\n",
    "Q - Will the solution presented work?\n",
    "A - yes"
   ]
  },
  {
   "cell_type": "code",
   "execution_count": 2,
   "metadata": {},
   "outputs": [
    {
     "name": "stdout",
     "output_type": "stream",
     "text": [
      "B\n"
     ]
    }
   ],
   "source": [
    "grade = int(input(\"enter\"))\n",
    "if grade >= 90:\n",
    "    letter_grade = \"B\"\n",
    "else:\n",
    "    letter_grade = \"F\"\n",
    "\n",
    "print(letter_grade)"
   ]
  },
  {
   "attachments": {},
   "cell_type": "markdown",
   "metadata": {},
   "source": [
    "Your turn..."
   ]
  }
 ],
 "metadata": {
  "kernelspec": {
   "display_name": "Python 3",
   "language": "python",
   "name": "python3"
  },
  "language_info": {
   "codemirror_mode": {
    "name": "ipython",
    "version": 3
   },
   "file_extension": ".py",
   "mimetype": "text/x-python",
   "name": "python",
   "nbconvert_exporter": "python",
   "pygments_lexer": "ipython3",
   "version": "3.10.6"
  },
  "orig_nbformat": 4,
  "vscode": {
   "interpreter": {
    "hash": "dd3b349d516eaf5c243f4256f5870d4a7387b1f85bb459b9d1ad2de002537956"
   }
  }
 },
 "nbformat": 4,
 "nbformat_minor": 2
}
